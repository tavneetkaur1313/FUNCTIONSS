{
  "nbformat": 4,
  "nbformat_minor": 0,
  "metadata": {
    "colab": {
      "provenance": []
    },
    "kernelspec": {
      "name": "python3",
      "display_name": "Python 3"
    },
    "language_info": {
      "name": "python"
    }
  },
  "cells": [
    {
      "cell_type": "markdown",
      "source": [],
      "metadata": {
        "id": "bf5GUpyOvO-V"
      }
    },
    {
      "cell_type": "markdown",
      "source": [
        "# Theory Questions\n",
        "\n",
        "1. What is the difference between a function and a method in Python?\n",
        "\n",
        "Ans- FUNCTIONS\n",
        "\n",
        "-> Definition- No class is needed to define a function.\n",
        "-> Association- Not associated with any objects.\n",
        "-> Call- It is called by its name.\n",
        "-> Dependency- It doesn't depend on any class, i.e., it is an identical entity.\n",
        "   \n",
        "     METHOD\n",
        "\n",
        "-> Definition- Method definitions are present inside a class.\n",
        "-> Association- Associated with the class object.\n",
        "-> Call- It is called on an object.\n",
        "-> Dependency- It depends on the class they belong to.\n"
      ],
      "metadata": {
        "id": "KmGqBjTgvQiP"
      }
    },
    {
      "cell_type": "code",
      "source": [
        "#Functions_Example\n",
        "\n",
        "def add_numbers(x, y):\n",
        "  return x + y\n",
        "\n",
        "result = add_numbers(3, 5)\n",
        "print(result)"
      ],
      "metadata": {
        "colab": {
          "base_uri": "https://localhost:8080/"
        },
        "id": "L2NRybqhwtvw",
        "outputId": "41c54005-d1d4-4a5a-bdef-a94316dae93d"
      },
      "execution_count": null,
      "outputs": [
        {
          "output_type": "stream",
          "name": "stdout",
          "text": [
            "8\n"
          ]
        }
      ]
    },
    {
      "cell_type": "code",
      "source": [
        "#Methods_Example\n",
        "\n",
        "name = \"Alice\"\n",
        "upper_name = name.upper()\n",
        "print(upper_name)"
      ],
      "metadata": {
        "colab": {
          "base_uri": "https://localhost:8080/"
        },
        "id": "_mqZrHNQxibL",
        "outputId": "8b6d64e4-0bde-444f-d6a4-ae2d817fd6fe"
      },
      "execution_count": null,
      "outputs": [
        {
          "output_type": "stream",
          "name": "stdout",
          "text": [
            "ALICE\n"
          ]
        }
      ]
    },
    {
      "cell_type": "markdown",
      "source": [
        "2. Explain the concept of function arguments and parameters in Python.\n",
        "\n",
        "Ans-  CONCEPT OF FUNCTION ARGUMENTS\n",
        "\n",
        "An argument is the actual value that is passed to the function or method when it is called. They are the specific values provided to the function when it is executed. They are used in function calls. They do not have default values; they are the actual values passed. Arguments can be mutable or immutable depending on their data type.\n",
        "\n",
        "\n",
        "CONCEPT OF PARAMETERS\n",
        "\n",
        "A parameter is a variable name in the function or method definition. It acts as a placeholder for the data the function will use. Parameters define the type and number of inputs a function can accept. They are part of the function's signature. They appear in function declarations/definitions. They have default values. Parameters are local to function where they are defined.\n",
        "\n"
      ],
      "metadata": {
        "id": "h206gxqbzwtB"
      }
    },
    {
      "cell_type": "code",
      "source": [
        "#Function_arguments\n",
        "\n",
        "def add_numbers(a, b):\n",
        "  sum = a + b\n",
        "  print('Sum:' , sum)\n",
        "\n",
        "add_numbers(2, 3)"
      ],
      "metadata": {
        "colab": {
          "base_uri": "https://localhost:8080/"
        },
        "id": "T2KrMLAF2Vim",
        "outputId": "6c7d5d2b-f561-4dcb-c683-491f23604bea"
      },
      "execution_count": null,
      "outputs": [
        {
          "output_type": "stream",
          "name": "stdout",
          "text": [
            "Sum: 5\n"
          ]
        }
      ]
    },
    {
      "cell_type": "code",
      "source": [
        "#Parameter_example\n",
        "\n",
        "def greet(name, greeting):\n",
        "    pass  #name and greetings are the parameters."
      ],
      "metadata": {
        "id": "Q9ATYp934f5w"
      },
      "execution_count": null,
      "outputs": []
    },
    {
      "cell_type": "markdown",
      "source": [
        "3. What are the different ways to define and call a function in Python?\n",
        "\n",
        "Ans-  Defining a function involves two main steps: defining the function and specifying the arguments.\n",
        "To define a function, we use the def keyword followed by the name of the function and parantheses(). If the function takes any arguments, they are included within the parantheses. The code block for the function is then indented after the colon.\n"
      ],
      "metadata": {
        "id": "O4AXT5oM5I1t"
      }
    },
    {
      "cell_type": "code",
      "source": [
        "def greet(name):\n",
        "  print(\"Hello, \" + name + \"! How are you? \")"
      ],
      "metadata": {
        "id": "I2MaDfNU7VXr"
      },
      "execution_count": null,
      "outputs": []
    },
    {
      "cell_type": "markdown",
      "source": [
        "Once we have defined the function in Python, we simply type the name of the function followed by parantheses(). If the function takes any arguments, they are included within the parantheses."
      ],
      "metadata": {
        "id": "LxNeDHRe7xUt"
      }
    },
    {
      "cell_type": "code",
      "source": [
        "#Basic_call\n",
        "greet(\"Alice\") #calls the greet function with \"Alice\" as an argument"
      ],
      "metadata": {
        "colab": {
          "base_uri": "https://localhost:8080/"
        },
        "id": "OJhTDVCn8o0o",
        "outputId": "ced874a7-8d6a-468f-fb31-62b3108cfcc7"
      },
      "execution_count": null,
      "outputs": [
        {
          "output_type": "stream",
          "name": "stdout",
          "text": [
            "Hello, Alice! How are you? \n"
          ]
        }
      ]
    },
    {
      "cell_type": "code",
      "source": [
        "#With_arguments\n",
        "def add(x, y):\n",
        "  return x + y\n",
        "\n",
        "result = add(5, 3) #Calls the add function and stores the result\n",
        "print(result)"
      ],
      "metadata": {
        "colab": {
          "base_uri": "https://localhost:8080/"
        },
        "id": "nx9eOquJ9IBS",
        "outputId": "61a869f1-4284-443f-b321-7cf5e182ba05"
      },
      "execution_count": null,
      "outputs": [
        {
          "output_type": "stream",
          "name": "stdout",
          "text": [
            "8\n"
          ]
        }
      ]
    },
    {
      "cell_type": "code",
      "source": [
        "#Keyword_arguments\n",
        "def person(name, age):\n",
        "  print(f\"Name: {name}, Age: {age}\")\n",
        "\n",
        "person(age=25, name=\"Bob\") # Fixed: Removed extra indentation"
      ],
      "metadata": {
        "colab": {
          "base_uri": "https://localhost:8080/"
        },
        "id": "_fD4ZP9b-qBL",
        "outputId": "84340d51-2407-4cd9-d0a9-12a891814f21"
      },
      "execution_count": null,
      "outputs": [
        {
          "output_type": "stream",
          "name": "stdout",
          "text": [
            "Name: Bob, Age: 25\n"
          ]
        }
      ]
    },
    {
      "cell_type": "code",
      "source": [
        "#default_arguments\n",
        "def greet(name=\"Guest\"):\n",
        "  print(f\"Hello, {name}!\")\n",
        "\n",
        "  greet()\n",
        "  greet(\"Charlie\")"
      ],
      "metadata": {
        "id": "d0JSWtrC-312"
      },
      "execution_count": null,
      "outputs": []
    },
    {
      "cell_type": "code",
      "source": [
        "#Variable-Length_Arguments_(*args_positional)\n",
        "def my_function(*args):\n",
        "  for arg in args:\n",
        "    print(arg)\n",
        "\n",
        "    my_function(1, 2, 3, \"hello\")"
      ],
      "metadata": {
        "id": "ikzLrirw_Rde"
      },
      "execution_count": null,
      "outputs": []
    },
    {
      "cell_type": "code",
      "source": [
        "#kwargs(keyword)\n",
        "def my_function(**kwargs):\n",
        "  for key, value in kwargs.items():\n",
        "    print(f\"{key}: {value}\")\n",
        "\n",
        "  my_function(name=\"David\", age=30)"
      ],
      "metadata": {
        "id": "81VFaMSu_wRR"
      },
      "execution_count": null,
      "outputs": []
    },
    {
      "cell_type": "code",
      "source": [
        "#nested_function\n",
        "def outer_function():\n",
        "  def inner_function():\n",
        "    print(\"Inner function\")\n",
        "\n",
        "  inner_function()\n",
        "  print(\"Outer function\")\n",
        "\n",
        "outer_function()"
      ],
      "metadata": {
        "colab": {
          "base_uri": "https://localhost:8080/"
        },
        "id": "Fv7g4kaaAYVY",
        "outputId": "9bc449bf-c018-410e-a380-fda9ef13b881"
      },
      "execution_count": null,
      "outputs": [
        {
          "output_type": "stream",
          "name": "stdout",
          "text": [
            "Inner function\n",
            "Outer function\n"
          ]
        }
      ]
    },
    {
      "cell_type": "code",
      "source": [
        "#recursive_function\n",
        "def fatorial(n):\n",
        "  if n == 0:\n",
        "    return 1\n",
        "  else:\n",
        "    return n * factorial(n-1)\n",
        "\n",
        "  print(factorial(5))"
      ],
      "metadata": {
        "id": "TZdcHfolA16t"
      },
      "execution_count": null,
      "outputs": []
    },
    {
      "cell_type": "code",
      "source": [
        "#Built-in_function\n",
        "print(\"Hello, world!\")\n",
        "my_list = [1, 2, 3]\n",
        "print(len(my_list))"
      ],
      "metadata": {
        "colab": {
          "base_uri": "https://localhost:8080/"
        },
        "id": "0nQ_dCbMBef8",
        "outputId": "ee4e804e-ff6e-4674-9f62-835dda245d8d"
      },
      "execution_count": null,
      "outputs": [
        {
          "output_type": "stream",
          "name": "stdout",
          "text": [
            "Hello, world!\n",
            "3\n"
          ]
        }
      ]
    },
    {
      "cell_type": "markdown",
      "source": [
        "4. What is the purpose of the `return` statement in a Python function?\n",
        "\n",
        "Ans-  The primary purpose of the return statement in a Python fuction is to terminate the function's execution and send a value (or values) back to the caller.  "
      ],
      "metadata": {
        "id": "o0ZCGyfiBztF"
      }
    },
    {
      "cell_type": "code",
      "source": [
        "#Example\n",
        "def add_numbers(x, y):\n",
        "  result = x + y\n",
        "  return result\n",
        "\n",
        "sum_result = add_numbers(5, 3)\n",
        "print(sum_result)"
      ],
      "metadata": {
        "colab": {
          "base_uri": "https://localhost:8080/"
        },
        "id": "6KGLrVYiD-Id",
        "outputId": "e816fd1c-2f54-423f-863b-e6b7d97c3db3"
      },
      "execution_count": null,
      "outputs": [
        {
          "output_type": "stream",
          "name": "stdout",
          "text": [
            "8\n"
          ]
        }
      ]
    },
    {
      "cell_type": "markdown",
      "source": [
        "5.  What are iterators in Python and how do they differ from iterables?\n",
        "\n",
        "Ans-  An iterator is an object that helps a user in iterating over another object (that is iterable). We use _ _next_ _() method for iterating. This method helps iterators return the next item available from the object.\n",
        "Remember that every iterator is basically iterable, but vice versa is not always true.\n",
        "ITERATORS\n",
        "\n",
        "-> An iterator is also an object that helps a user in iterating over another object(that is iterable).\n",
        "-> We used the _ _next_ _() method for iterating. This method helps iterators return the next item available from the object.\n",
        "-> Not every iterable is an iterator.\n",
        "\n",
        "ITERABLES\n",
        "\n",
        "-> An iterable is basically an object that any user can iterate over.\n",
        "-> We can generate an iterator when we pass the object to the iter() method.\n",
        "-> Every iterator is basically iterable."
      ],
      "metadata": {
        "id": "WtNKZgi2EZkm"
      }
    },
    {
      "cell_type": "code",
      "source": [
        "#Iterables_in_python\n",
        "for value in [\"a\", \"b\", \"c\"]:\n",
        "  print(value)"
      ],
      "metadata": {
        "colab": {
          "base_uri": "https://localhost:8080/"
        },
        "id": "pzTYbXrhKIPu",
        "outputId": "92e882ec-0e8c-492e-85fa-3da0ecfdfce4"
      },
      "execution_count": null,
      "outputs": [
        {
          "output_type": "stream",
          "name": "stdout",
          "text": [
            "a\n",
            "b\n",
            "c\n"
          ]
        }
      ]
    },
    {
      "cell_type": "code",
      "source": [
        "#Iterators_in_pyhton\n",
        "numbers = iter([2, 4, 6, 8, 10])\n",
        "\n",
        "print(type(numbers))\n",
        "\n",
        "print(next(numbers))\n",
        "print(next(numbers))\n",
        "print(next(numbers))\n",
        "print(next(numbers))\n",
        "print(next(numbers))\n",
        "#The next() function will raise StopIteration as it is exhausted.\n",
        "\n"
      ],
      "metadata": {
        "colab": {
          "base_uri": "https://localhost:8080/"
        },
        "id": "cRzbJSfdLceh",
        "outputId": "00b0a4ba-b0be-466f-dd4d-9f5dc3639fdc"
      },
      "execution_count": null,
      "outputs": [
        {
          "output_type": "stream",
          "name": "stdout",
          "text": [
            "<class 'list_iterator'>\n",
            "2\n",
            "4\n",
            "6\n",
            "8\n",
            "10\n"
          ]
        }
      ]
    },
    {
      "cell_type": "markdown",
      "source": [
        "6. Explain the concept of generators in Python and how they are defined.\n",
        "\n",
        "Ans-  In Python, a generator is a function that creates an iterator that produces a sequences of values one at a time. Generators are useful for processing large datasets and infinite sequences without using a lot of memory.\n",
        "\n",
        "-> Generators are defined like normal functions.\n",
        "-> Instead of using the return keyword, generators use the yield keyword to produce a value.\n",
        "-> If the body of a function contains yield, then that function is a generator function."
      ],
      "metadata": {
        "id": "dYXncL0DMcbv"
      }
    },
    {
      "cell_type": "code",
      "source": [
        "#Example\n",
        "def generator_name(arg):\n",
        "  #statements\n",
        "  yield something"
      ],
      "metadata": {
        "id": "huGisi0WN0k3"
      },
      "execution_count": null,
      "outputs": []
    },
    {
      "cell_type": "markdown",
      "source": [
        "7. What are the advantages of using generators over regular functions?\n",
        "\n",
        "Ans-  Generators offer advantages over regular functions, particularly in memory efficiency and code readability, by generating values on demand (lazy evaluation) and simplifying iteration logic.\n",
        "\n",
        "-> Memory Efficiency- Generators are memory-efficient because they produce values on-the-fly, rather than storing the entire sequence in memory. This is especially beneficial when dealing with large or infinite sequences, as it avoids consuming excessive memory.\n",
        "\n",
        "-> Lazy Evaluation- Generators use lazy evaluation, meaning they generate items only as needed, not all at once. This can significantly improve performance, especially when working with large datasets or streams of data.\n",
        "\n",
        "-> Simplified Code- Generators simplify code for iterating over large datasets or streams of data without needing to manage state explicitly. They allow you to write more concise and readable code compared to traditional iterable objects.\n",
        "\n",
        "-> Concise iteration- Generators provide a more straightforward and concise way to create iterators, eliminating the need to manage thr state of the iteration manually.\n",
        "\n",
        "-> Cooperative Multitasking- Generator functions can pause their execution with the yield keyword and later resume from where they left off, allowing for cooperative multitasking."
      ],
      "metadata": {
        "id": "08s3J_SwOFmT"
      }
    },
    {
      "cell_type": "code",
      "source": [
        "#Example of a simple generator that yields the first 10 numbers\n",
        "def first_ten_numbers():\n",
        "  for i in range(10):\n",
        "    yield i\n",
        "    gen = first_ten_numbers()\n",
        "    for num in gen:\n",
        "      print(num)"
      ],
      "metadata": {
        "id": "3MU2QulbSLiO"
      },
      "execution_count": null,
      "outputs": []
    },
    {
      "cell_type": "markdown",
      "source": [
        "8.  What is a lambda function in Python and when is it typically used?\n",
        "\n",
        "Ans-  In Python, Lambda functions are efficient whenever you want to create a function that will only contain simple expressions- that is, expressions that are usually a single line of a statement. They're also useful when you want to use the function once.\n",
        "\n",
        "-> Lambda is a keyword for defining the anonymous function.\n"
      ],
      "metadata": {
        "id": "zowDJzCuS0il"
      }
    },
    {
      "cell_type": "code",
      "source": [
        "#Example - add 10 to argument a, and return the result\n",
        "x = lambda a : a + 10\n",
        "print(x(5))"
      ],
      "metadata": {
        "colab": {
          "base_uri": "https://localhost:8080/"
        },
        "id": "l1YwKi6yT3KT",
        "outputId": "a4d16368-d7df-4f9f-db4e-7cbd957ede01"
      },
      "execution_count": null,
      "outputs": [
        {
          "output_type": "stream",
          "name": "stdout",
          "text": [
            "15\n"
          ]
        }
      ]
    },
    {
      "cell_type": "code",
      "source": [
        "#Example 2 - Multiply argument a with argument b and return the result\n",
        "x = lambda a, b : a * b\n",
        "print(x(5, 6))"
      ],
      "metadata": {
        "colab": {
          "base_uri": "https://localhost:8080/"
        },
        "id": "ShyqD1M_UIwc",
        "outputId": "a5860e0b-8aaf-481b-fdf6-c1ac9cc41a23"
      },
      "execution_count": null,
      "outputs": [
        {
          "output_type": "stream",
          "name": "stdout",
          "text": [
            "30\n"
          ]
        }
      ]
    },
    {
      "cell_type": "markdown",
      "source": [
        "9.  Explain the purpose and usage of the `map()` function in Python.\n",
        "\n",
        "Ans-  The map() function in Python applies a function to every item in an iterable, such as a list or tuple. It returns a map object, whic is an iterator that can be used to iterate over the results.\n",
        "\n",
        "Purpose\n",
        "\n",
        "-> To apply a transformation to each item in a sequence.\n",
        "-> To simplify iterative operations\n",
        "-> To dynamically generate HTML code  from a data list.\n",
        "\n",
        "Usage\n",
        "\n",
        "-> The map function takes at least two arguments: the function to apply and the sequence.\n",
        "-> The syntax for the map function is: map(function, iterable, ...)\n",
        "-> The function is the transformation function\n",
        "-> The iterable can be a list, tuple, dictionary, or set.\n",
        "-> The map function outputs a list of results."
      ],
      "metadata": {
        "id": "vwGW8_8zUexU"
      }
    },
    {
      "cell_type": "code",
      "source": [
        "#Example of calculate the length of each word in the tuple\n",
        "def myfunc(n):\n",
        "  return len(n)\n",
        "\n",
        "x = map(myfunc, ('apple','banana', 'cherry'))"
      ],
      "metadata": {
        "id": "O2oCFlnKYQcp"
      },
      "execution_count": null,
      "outputs": []
    },
    {
      "cell_type": "markdown",
      "source": [
        "10. What is the difference between `map()`, `reduce()`, and `filter()` functions in Python?\n",
        "\n",
        "Ans-  map() function\n",
        "\n",
        "-> The map() function interates through all items in the given iterable and executes the function we passed as an argument on each of them.\n",
        "-> Syntax is: map(function, iterables(s))\n",
        "-> We can pass as many iterable objects as we want after passing the function we want to use.\n",
        "\n",
        "filter() function\n",
        "\n",
        "-> Similar to map(), filter() takes a function object and an iterable and creates a new list.\n",
        "-> Syntax is: filter(function, iterable(s))\n",
        "-> As the name suggests, filter() forms a new list that contains only elements that satisfy a certain condition, i.e., the function e passed returns True.\n",
        "\n",
        "reduce() function\n",
        "\n",
        "-> reduce() works differently than map() and filter(). It does not return a new list based on the function and iterable we've passed. Instead, it returns a single value.\n",
        "-> Syntax is: reduce(function, sequence[, initial])\n",
        "-> reduce() works by calling the function we passed for the first two items in the sequence. The result returned by the function is used in another call to function alongisde with the next element.\n",
        "\n",
        "\n"
      ],
      "metadata": {
        "id": "tyKs58oIZgBs"
      }
    },
    {
      "cell_type": "code",
      "source": [
        "#Example of map() function, without using lambdas\n",
        "def starts_with_A(s):\n",
        "  return s[0] == \"A\"\n",
        "\n",
        "fruit = [\"Apple\", \"Banana\", \"Pear\", \"Apricot\", \"Orange\"]\n",
        "map_object = map(starts_with_A, fruit)\n",
        "\n",
        "print(list(map_object))\n"
      ],
      "metadata": {
        "colab": {
          "base_uri": "https://localhost:8080/"
        },
        "id": "34n3wOlGbreD",
        "outputId": "fac6747e-e7f0-4c98-bdc6-5b748c1c9413"
      },
      "execution_count": null,
      "outputs": [
        {
          "output_type": "stream",
          "name": "stdout",
          "text": [
            "[True, False, False, True, False]\n"
          ]
        }
      ]
    },
    {
      "cell_type": "code",
      "source": [
        "#Example of filter() function, without using lambdas\n",
        "def starts_with_A(s):\n",
        "  return s[0] == \"A\"\n",
        "\n",
        "fruit = [\"Apple\", \"Banana\", \"Pear\", \"Apricot\", \"Orange\"]\n",
        "filter_object = filter(starts_with_A, fruit)\n",
        "\n",
        "print(list(filter_object))"
      ],
      "metadata": {
        "colab": {
          "base_uri": "https://localhost:8080/"
        },
        "id": "ywWDAQnHcdPc",
        "outputId": "e813fe54-df45-4214-e1d2-31b1af858863"
      },
      "execution_count": null,
      "outputs": [
        {
          "output_type": "stream",
          "name": "stdout",
          "text": [
            "['Apple', 'Apricot']\n"
          ]
        }
      ]
    },
    {
      "cell_type": "code",
      "source": [
        "#Example of reduce() function\n",
        "from functools import reduce\n",
        "\n",
        "def add(x, y):\n",
        "  return x + y\n",
        "\n",
        "list = [2, 4, 7, 3]\n",
        "print(reduce(add, list))"
      ],
      "metadata": {
        "colab": {
          "base_uri": "https://localhost:8080/"
        },
        "id": "xg73Z46dou3k",
        "outputId": "e7e1e2d8-3859-4ed2-9c6d-54b28f7c483a"
      },
      "execution_count": null,
      "outputs": [
        {
          "output_type": "stream",
          "name": "stdout",
          "text": [
            "16\n"
          ]
        }
      ]
    },
    {
      "cell_type": "markdown",
      "source": [
        "11.  Using pen & Paper write the internal mechanism for sum operation using  reduce function on this given  list:[47,11,42,13];\n",
        "\n",
        "Ans-  "
      ],
      "metadata": {
        "id": "MWmTjEXxpGRP"
      }
    },
    {
      "cell_type": "code",
      "source": [
        "from functools import reduce\n",
        "\n",
        "# List of numbers\n",
        "numbers = [47, 11, 42, 13]\n",
        "\n",
        "# Using reduce to perform sum operation\n",
        "result = reduce(lambda x, y: x + y, numbers)\n",
        "\n",
        "# Output the result\n",
        "print(result)\n"
      ],
      "metadata": {
        "colab": {
          "base_uri": "https://localhost:8080/"
        },
        "id": "gN5kkU9ZstPw",
        "outputId": "6b919e49-6728-4f7f-8b7f-3b540960612c"
      },
      "execution_count": null,
      "outputs": [
        {
          "output_type": "stream",
          "name": "stdout",
          "text": [
            "113\n"
          ]
        }
      ]
    },
    {
      "cell_type": "markdown",
      "source": [
        "![ans.jpg](data:image/jpeg;base64,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)"
      ],
      "metadata": {
        "id": "SU0fkSaqtjws"
      }
    },
    {
      "cell_type": "markdown",
      "source": [
        "# Practical Questions\n",
        "\n",
        "1. Write a Python function that takes a list of numbers as input and returns the sum of all even numbers in the list.\n",
        "\n"
      ],
      "metadata": {
        "id": "cW154p1Rtsnh"
      }
    },
    {
      "cell_type": "code",
      "source": [
        "def sum_of_even_numbers(numbers):\n",
        "    # Initialize a variable to hold the sum of even numbers\n",
        "    even_sum = 0\n",
        "\n",
        "    # Iterate through the list of numbers\n",
        "    for number in numbers:\n",
        "        # Check if the number is even\n",
        "        if number % 2 == 0:\n",
        "            even_sum += number  # Add the even number to the sum\n",
        "\n",
        "    return even_sum\n",
        "\n",
        "# Example usage:\n",
        "numbers_list = [1, 2, 3, 4, 5, 6]\n",
        "result = sum_of_even_numbers(numbers_list)\n",
        "print(\"Sum of even numbers:\", result)  # Output: Sum of even numbers: 12"
      ],
      "metadata": {
        "colab": {
          "base_uri": "https://localhost:8080/"
        },
        "id": "T5mtGZl8uJhW",
        "outputId": "c12d219f-e719-4454-b5a2-b166288c52eb"
      },
      "execution_count": 54,
      "outputs": [
        {
          "output_type": "stream",
          "name": "stdout",
          "text": [
            "Sum of even numbers: 12\n"
          ]
        }
      ]
    },
    {
      "cell_type": "markdown",
      "source": [
        "2. Create a Python function that accepts a string and returns the reverse of that string."
      ],
      "metadata": {
        "id": "0sIWWOm-uPCA"
      }
    },
    {
      "cell_type": "code",
      "source": [
        "def reverse_string(input_string):\n",
        "    # Return the reversed string using slicing\n",
        "    return input_string[::-1]\n",
        "\n",
        "# Example usage:\n",
        "example_string = \"Hello, World!\"\n",
        "reversed_string = reverse_string(example_string)\n",
        "print(\"Reversed string:\", reversed_string)  # Output: !dlroW ,olleH"
      ],
      "metadata": {
        "colab": {
          "base_uri": "https://localhost:8080/"
        },
        "id": "VxESAjovuTYO",
        "outputId": "8f2500d5-0773-4654-807f-cb3a0fb29e53"
      },
      "execution_count": 55,
      "outputs": [
        {
          "output_type": "stream",
          "name": "stdout",
          "text": [
            "Reversed string: !dlroW ,olleH\n"
          ]
        }
      ]
    },
    {
      "cell_type": "markdown",
      "source": [
        "3.  Implement a Python function that takes a list of integers and returns a new list containing the squares of each number."
      ],
      "metadata": {
        "id": "ZjKfjM81ueV-"
      }
    },
    {
      "cell_type": "code",
      "source": [
        "def square_numbers(numbers):\n",
        "    # Use a list comprehension to create a new list with the squares of each number\n",
        "    squared_list = [number ** 2 for number in numbers]\n",
        "    return squared_list\n",
        "\n",
        "# Example usage:\n",
        "input_list = [1, 2, 3, 4, 5]\n",
        "squared_list = square_numbers(input_list)\n",
        "print(\"Squared numbers:\", squared_list)  # Output: Squared numbers: [1, 4, 9, 16, 25]"
      ],
      "metadata": {
        "colab": {
          "base_uri": "https://localhost:8080/"
        },
        "id": "s7RXWZ6uuyhZ",
        "outputId": "8963966b-a06b-4e30-b168-f72463565a4e"
      },
      "execution_count": 56,
      "outputs": [
        {
          "output_type": "stream",
          "name": "stdout",
          "text": [
            "Squared numbers: [1, 4, 9, 16, 25]\n"
          ]
        }
      ]
    },
    {
      "cell_type": "markdown",
      "source": [
        "4. Write a Python function that checks if a given number is prime or not from 1 to 200."
      ],
      "metadata": {
        "id": "kEvKUuyqu09K"
      }
    },
    {
      "cell_type": "code",
      "source": [
        "def is_prime(number):\n",
        "    # Check if the number is within the valid range\n",
        "    if number < 1 or number > 200:\n",
        "        return False\n",
        "\n",
        "    # 1 is not a prime number\n",
        "    if number == 1:\n",
        "        return False\n",
        "\n",
        "    # Check for factors from 2 to the square root of the number\n",
        "    for i in range(2, int(number**0.5) + 1):\n",
        "        if number % i == 0:\n",
        "            return False  # Found a factor, so it's not prime\n",
        "\n",
        "    return True  # No factors found, so it's prime\n",
        "\n",
        "# Example usage:\n",
        "for num in range(1, 201):\n",
        "    if is_prime(num):\n",
        "        print(f\"{num} is a prime number.\")"
      ],
      "metadata": {
        "colab": {
          "base_uri": "https://localhost:8080/"
        },
        "id": "nSMBrR_Xu4L_",
        "outputId": "6bab2247-20ca-4087-f2c3-72bca9e2b472"
      },
      "execution_count": 57,
      "outputs": [
        {
          "output_type": "stream",
          "name": "stdout",
          "text": [
            "2 is a prime number.\n",
            "3 is a prime number.\n",
            "5 is a prime number.\n",
            "7 is a prime number.\n",
            "11 is a prime number.\n",
            "13 is a prime number.\n",
            "17 is a prime number.\n",
            "19 is a prime number.\n",
            "23 is a prime number.\n",
            "29 is a prime number.\n",
            "31 is a prime number.\n",
            "37 is a prime number.\n",
            "41 is a prime number.\n",
            "43 is a prime number.\n",
            "47 is a prime number.\n",
            "53 is a prime number.\n",
            "59 is a prime number.\n",
            "61 is a prime number.\n",
            "67 is a prime number.\n",
            "71 is a prime number.\n",
            "73 is a prime number.\n",
            "79 is a prime number.\n",
            "83 is a prime number.\n",
            "89 is a prime number.\n",
            "97 is a prime number.\n",
            "101 is a prime number.\n",
            "103 is a prime number.\n",
            "107 is a prime number.\n",
            "109 is a prime number.\n",
            "113 is a prime number.\n",
            "127 is a prime number.\n",
            "131 is a prime number.\n",
            "137 is a prime number.\n",
            "139 is a prime number.\n",
            "149 is a prime number.\n",
            "151 is a prime number.\n",
            "157 is a prime number.\n",
            "163 is a prime number.\n",
            "167 is a prime number.\n",
            "173 is a prime number.\n",
            "179 is a prime number.\n",
            "181 is a prime number.\n",
            "191 is a prime number.\n",
            "193 is a prime number.\n",
            "197 is a prime number.\n",
            "199 is a prime number.\n"
          ]
        }
      ]
    },
    {
      "cell_type": "markdown",
      "source": [
        "5. Create an iterator class in Python that generates the Fibonacci sequence up to a specified number of terms."
      ],
      "metadata": {
        "id": "GunsVebTu_qK"
      }
    },
    {
      "cell_type": "code",
      "source": [
        "class FibonacciIterator:\n",
        "    def __init__(self, terms):\n",
        "        self.terms = terms\n",
        "        self.current = 0\n",
        "        self.next_value = 1\n",
        "        self.count = 0\n",
        "\n",
        "    def __iter__(self):\n",
        "        return self\n",
        "\n",
        "    def __next__(self):\n",
        "        if self.count < self.terms:\n",
        "            # Return the current Fibonacci number\n",
        "            fib_number = self.current\n",
        "            # Update the Fibonacci sequence\n",
        "            self.current, self.next_value = self.next_value, self.current + self.next_value\n",
        "            self.count += 1\n",
        "            return fib_number\n",
        "        else:\n",
        "            # Stop iteration when the specified number of terms is reached\n",
        "            raise StopIteration\n",
        "\n",
        "# Example usage:\n",
        "fibonacci_terms = 10\n",
        "fibonacci_iterator = FibonacciIterator(fibonacci_terms)\n",
        "\n",
        "print(f\"Fibonacci sequence up to {fibonacci_terms} terms:\")\n",
        "for number in fibonacci_iterator:\n",
        "    print(number)"
      ],
      "metadata": {
        "colab": {
          "base_uri": "https://localhost:8080/"
        },
        "id": "HFHekHX9vPAR",
        "outputId": "9d6c069b-8865-499e-d342-6cdb36608551"
      },
      "execution_count": 58,
      "outputs": [
        {
          "output_type": "stream",
          "name": "stdout",
          "text": [
            "Fibonacci sequence up to 10 terms:\n",
            "0\n",
            "1\n",
            "1\n",
            "2\n",
            "3\n",
            "5\n",
            "8\n",
            "13\n",
            "21\n",
            "34\n"
          ]
        }
      ]
    },
    {
      "cell_type": "markdown",
      "source": [
        " 6. Write a generator function in Python that yields the powers of 2 up to a given exponent."
      ],
      "metadata": {
        "id": "VfFw21ETvR4A"
      }
    },
    {
      "cell_type": "code",
      "source": [
        "def powers_of_two(exponent):\n",
        "    for i in range(exponent + 1):\n",
        "        yield 2 ** i\n",
        "\n",
        "# Example usage:\n",
        "max_exponent = 10\n",
        "print(f\"Powers of 2 up to 2^{max_exponent}:\")\n",
        "for power in powers_of_two(max_exponent):\n",
        "    print(power)"
      ],
      "metadata": {
        "colab": {
          "base_uri": "https://localhost:8080/"
        },
        "id": "-NmCPX_yvYnh",
        "outputId": "db6a7be3-706f-4016-b5b2-fa811fae742f"
      },
      "execution_count": 59,
      "outputs": [
        {
          "output_type": "stream",
          "name": "stdout",
          "text": [
            "Powers of 2 up to 2^10:\n",
            "1\n",
            "2\n",
            "4\n",
            "8\n",
            "16\n",
            "32\n",
            "64\n",
            "128\n",
            "256\n",
            "512\n",
            "1024\n"
          ]
        }
      ]
    },
    {
      "cell_type": "markdown",
      "source": [
        "7. Implement a generator function that reads a file line by line and yields each line as a string."
      ],
      "metadata": {
        "id": "LusTlAS0vazn"
      }
    },
    {
      "cell_type": "code",
      "source": [
        "def read_file_line_by_line(file_path):\n",
        "    \"\"\"Generator function to read a file line by line.\"\"\"\n",
        "    with open(file_path, 'r') as file:\n",
        "        for line in file:\n",
        "            yield line.strip()  # Yield each line, stripping any leading/trailing whitespace\n",
        "\n",
        "# Example usage:\n",
        "file_path = 'example.txt'  # Replace with your file path\n",
        "try:\n",
        "    for line in read_file_line_by_line(file_path):\n",
        "        print(line)\n",
        "except FileNotFoundError:\n",
        "    print(f\"The file {file_path} was not found.\")"
      ],
      "metadata": {
        "colab": {
          "base_uri": "https://localhost:8080/"
        },
        "id": "lg17GWTMvh6P",
        "outputId": "dd00c410-3de4-48d3-a259-261a8051e0f7"
      },
      "execution_count": 60,
      "outputs": [
        {
          "output_type": "stream",
          "name": "stdout",
          "text": [
            "The file example.txt was not found.\n"
          ]
        }
      ]
    },
    {
      "cell_type": "markdown",
      "source": [
        "8. Use a lambda function in Python to sort a list of tuples based on the second element of each tuple."
      ],
      "metadata": {
        "id": "V6XYv118vsaO"
      }
    },
    {
      "cell_type": "code",
      "source": [
        "# Sample list of tuples\n",
        "tuples_list = [(1, 'banana'), (2, 'apple'), (3, 'cherry'), (4, 'date')]\n",
        "\n",
        "# Sort the list of tuples based on the second element of each tuple\n",
        "sorted_tuples = sorted(tuples_list, key=lambda x: x[1])\n",
        "\n",
        "# Print the sorted list\n",
        "print(\"Sorted list of tuples based on the second element:\")\n",
        "print(sorted_tuples)"
      ],
      "metadata": {
        "colab": {
          "base_uri": "https://localhost:8080/"
        },
        "id": "WHYlFY3FvycZ",
        "outputId": "5c8a396a-ef6c-448c-97d3-6d54cb96b7d9"
      },
      "execution_count": 61,
      "outputs": [
        {
          "output_type": "stream",
          "name": "stdout",
          "text": [
            "Sorted list of tuples based on the second element:\n",
            "[(2, 'apple'), (1, 'banana'), (3, 'cherry'), (4, 'date')]\n"
          ]
        }
      ]
    },
    {
      "cell_type": "markdown",
      "source": [
        "9. Write a Python program that uses `map()` to convert a list of temperatures from Celsius to Fahrenheit."
      ],
      "metadata": {
        "id": "I5zQqXzuv89X"
      }
    },
    {
      "cell_type": "code",
      "source": [
        "# Function to convert Celsius to Fahrenheit\n",
        "def celsius_to_fahrenheit(celsius):\n",
        "    return (celsius * 9/5) + 32\n",
        "\n",
        "# List of temperatures in Celsius\n",
        "celsius_temps = [0, 20, 30, 40, 100]\n",
        "\n",
        "# Use map() to convert Celsius to Fahrenheit\n",
        "# Use the built-in list() function, avoid shadowing it with a variable named 'list'\n",
        "fahrenheit_temps = builtins.list(map(celsius_to_fahrenheit, celsius_temps))  # Change 'list' to 'builtins.list' to use the built-in function\n",
        "\n",
        "# Print the converted temperatures\n",
        "print(\"Temperatures in Fahrenheit:\", fahrenheit_temps)\n",
        "\n"
      ],
      "metadata": {
        "colab": {
          "base_uri": "https://localhost:8080/"
        },
        "id": "wQsFi-mvEPC7",
        "outputId": "cc9eefb8-854d-4b0d-9e31-503421304145"
      },
      "execution_count": 74,
      "outputs": [
        {
          "output_type": "stream",
          "name": "stdout",
          "text": [
            "Temperatures in Fahrenheit: [32.0, 68.0, 86.0, 104.0, 212.0]\n"
          ]
        }
      ]
    },
    {
      "cell_type": "markdown",
      "source": [
        "10. Create a Python program that uses `filter()` to remove all the vowels from a given string."
      ],
      "metadata": {
        "id": "kmO-4QHcw-0F"
      }
    },
    {
      "cell_type": "code",
      "source": [
        "def remove_vowels(input_string):\n",
        "    # Define a set of vowels\n",
        "    vowels = set('aeiouAEIOU')\n",
        "\n",
        "    # Use filter() to remove vowels from the input string\n",
        "    filtered_string = ''.join(filter(lambda char: char not in vowels, input_string))\n",
        "\n",
        "    return filtered_string\n",
        "\n",
        "# Example usage\n",
        "input_string = \"Hello, World!\"\n",
        "result = remove_vowels(input_string)\n",
        "\n",
        "print(\"Original string:\", input_string)\n",
        "print(\"String after removing vowels:\", result)"
      ],
      "metadata": {
        "colab": {
          "base_uri": "https://localhost:8080/"
        },
        "id": "InRqNvfZxIbY",
        "outputId": "c9f96ed2-8680-4fec-d26e-41bca7300e23"
      },
      "execution_count": 68,
      "outputs": [
        {
          "output_type": "stream",
          "name": "stdout",
          "text": [
            "Original string: Hello, World!\n",
            "String after removing vowels: Hll, Wrld!\n"
          ]
        }
      ]
    },
    {
      "cell_type": "markdown",
      "source": [
        "![que.jpg](data:image/jpeg;base64,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)"
      ],
      "metadata": {
        "id": "_Eh92kbVxLO5"
      }
    },
    {
      "cell_type": "code",
      "source": [
        "# Sample data structure\n",
        "orders_data = [\n",
        "    [34587, \"Learning Python, Mark Lutz\", 4, 40.95],\n",
        "    [98762, \"Programming Python, Mark Lutz\", 3, 56.80],\n",
        "    [77226, \"Head First Python, Paul Barry\", 53, 32.95],\n",
        "    [88112, \"Einführung in Python3, Bernd Klein\", 3, 24.99],\n",
        "]\n",
        "\n",
        "# Function to calculate order values\n",
        "def calculate_order_values(orders):\n",
        "    # Use map() with a lambda function to create a list of tuples\n",
        "    # Use built-in list() function instead of variable 'list'\n",
        "    order_values = builtins.list(map(lambda order: (\n",
        "        order[0],  # Order number\n",
        "        (order[2] * order[3]) + (10 if (order[2] * order[3]) < 100 else 0)  # Total value with condition\n",
        "    ), orders))\n",
        "\n",
        "    return order_values\n",
        "\n",
        "# Import builtins module to access built-in functions\n",
        "import builtins\n",
        "\n",
        "# Example usage\n",
        "result = calculate_order_values(orders_data)\n",
        "\n",
        "# Print the results\n",
        "print(\"Order Number and Total Value:\")\n",
        "for order in result:\n",
        "    print(order)"
      ],
      "metadata": {
        "colab": {
          "base_uri": "https://localhost:8080/"
        },
        "id": "3iZ-MJwcDBhu",
        "outputId": "1165e70b-4eb4-435f-b2d6-a46b09a53783"
      },
      "execution_count": 71,
      "outputs": [
        {
          "output_type": "stream",
          "name": "stdout",
          "text": [
            "Order Number and Total Value:\n",
            "(34587, 163.8)\n",
            "(98762, 170.39999999999998)\n",
            "(77226, 1746.3500000000001)\n",
            "(88112, 84.97)\n"
          ]
        }
      ]
    }
  ]
}